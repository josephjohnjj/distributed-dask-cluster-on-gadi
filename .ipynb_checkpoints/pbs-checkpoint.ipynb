{
 "cells": [
  {
   "cell_type": "code",
   "execution_count": null,
   "id": "6b0e6e23",
   "metadata": {},
   "outputs": [],
   "source": [
    "import dask.distributed as dd\n",
    "from dask.distributed import Client, LocalCluster, progress\n",
    "from dask_jobqueue import PBSCluster\n",
    "from distributed.utils import tmpfile\n",
    "from dask.distributed import get_worker\n",
    "import os"
   ]
  },
  {
   "cell_type": "code",
   "execution_count": null,
   "id": "98923f85-7bc5-4f94-b4cc-f84d6e54c212",
   "metadata": {},
   "outputs": [],
   "source": [
    "# create the user directory if it doesn't already exist\n",
    "! mkdir -p /scratch/vp91/$USER"
   ]
  },
  {
   "cell_type": "code",
   "execution_count": null,
   "id": "339f5d4b-8ccb-45e7-8559-8a16315930a7",
   "metadata": {},
   "outputs": [],
   "source": [
    "user = os.getenv('USER', 'default value')\n",
    "path = '/scratch/vp91/'+user\n",
    "print(path)"
   ]
  },
  {
   "cell_type": "code",
   "execution_count": null,
   "id": "9da59131-ad46-4c3e-9a31-a32cba3e3356",
   "metadata": {},
   "outputs": [],
   "source": [
    "# The jupyter notebook is launched from your $HOME directory.\n",
    "# Change the working directory to the C-Debugging directory\n",
    "# which was created in your username directory under /scratch/vp91\n",
    "os.chdir(os.path.expandvars(path))"
   ]
  },
  {
   "cell_type": "code",
   "execution_count": null,
   "id": "1276d02c",
   "metadata": {},
   "outputs": [],
   "source": [
    "os.environ['DASK_PYTHON'] = '/scratch/vp91/Training-Venv/dask/dask-venv/bin/python3'\n",
    "setup_commands = [\"module load python3/3.11.0\", \"source /scratch/vp91/Training-Venv/dask/dask-venv/bin/activate\"]\n",
    "extra = ['-q normal',\n",
    "         '-P vp91', \n",
    "         '-l ncpus=48', \n",
    "         '-l mem=192GB']\n",
    "\n",
    "cluster = PBSCluster(walltime=\"00:50:00\", \n",
    "                     cores=48, \n",
    "                     memory=\"192GB\",\n",
    "                     #processes=48, \n",
    "                     shebang='#!/usr/bin/env bash',\n",
    "                     job_extra_directives=extra, \n",
    "                     local_directory='$TMPDIR', \n",
    "                     job_directives_skip=[\"select\"], \n",
    "                     interface=\"ib0\",\n",
    "                     job_script_prologue=setup_commands,\n",
    "                     python=os.environ[\"DASK_PYTHON\"])"
   ]
  },
  {
   "cell_type": "code",
   "execution_count": null,
   "id": "8dd5841c",
   "metadata": {},
   "outputs": [],
   "source": [
    "print(cluster.job_script())"
   ]
  },
  {
   "cell_type": "code",
   "execution_count": null,
   "id": "a1811896",
   "metadata": {},
   "outputs": [],
   "source": [
    "cluster.scale(jobs=2)"
   ]
  },
  {
   "cell_type": "code",
   "execution_count": null,
   "id": "1dcf9b63-5a88-4958-b2df-3e9645a0a63a",
   "metadata": {},
   "outputs": [],
   "source": [
    "!qstat"
   ]
  },
  {
   "cell_type": "code",
   "execution_count": null,
   "id": "b23e573c",
   "metadata": {},
   "outputs": [],
   "source": [
    "cluster"
   ]
  },
  {
   "cell_type": "code",
   "execution_count": null,
   "id": "3f91dd84",
   "metadata": {},
   "outputs": [],
   "source": [
    "client = Client(cluster)"
   ]
  },
  {
   "cell_type": "code",
   "execution_count": null,
   "id": "76568e2a",
   "metadata": {},
   "outputs": [],
   "source": [
    "client"
   ]
  },
  {
   "cell_type": "code",
   "execution_count": null,
   "id": "b2dcac5d-bb40-4f3b-81e3-6f787fd7ec88",
   "metadata": {},
   "outputs": [],
   "source": [
    "cluster.scheduler"
   ]
  },
  {
   "cell_type": "markdown",
   "id": "74475a75-117e-46f4-ad0c-3866824de73c",
   "metadata": {},
   "source": [
    "cluster.get_logs()"
   ]
  },
  {
   "cell_type": "code",
   "execution_count": null,
   "id": "b9ca048c",
   "metadata": {},
   "outputs": [],
   "source": [
    "def slow_increment(x):\n",
    "    return x+1"
   ]
  },
  {
   "cell_type": "code",
   "execution_count": null,
   "id": "1a413b9e",
   "metadata": {},
   "outputs": [],
   "source": [
    "futures = client.submit(slow_increment, 5000)"
   ]
  },
  {
   "cell_type": "code",
   "execution_count": null,
   "id": "464b436a-1f7c-4d2d-b6ae-1776f2c100e0",
   "metadata": {},
   "outputs": [],
   "source": [
    "futures"
   ]
  },
  {
   "cell_type": "code",
   "execution_count": null,
   "id": "ff3f742e-4a34-486c-aa42-575dd7202901",
   "metadata": {},
   "outputs": [],
   "source": [
    "futures.result()"
   ]
  },
  {
   "cell_type": "code",
   "execution_count": null,
   "id": "250c9693-d70a-4750-a422-8dcbbee1e9a1",
   "metadata": {},
   "outputs": [],
   "source": []
  },
  {
   "cell_type": "code",
   "execution_count": null,
   "id": "589950cf-af52-4fb5-b7da-6cfd428fc636",
   "metadata": {},
   "outputs": [],
   "source": []
  }
 ],
 "metadata": {
  "kernelspec": {
   "display_name": "Python 3 (ipykernel)",
   "language": "python",
   "name": "python3"
  },
  "language_info": {
   "codemirror_mode": {
    "name": "ipython",
    "version": 3
   },
   "file_extension": ".py",
   "mimetype": "text/x-python",
   "name": "python",
   "nbconvert_exporter": "python",
   "pygments_lexer": "ipython3",
   "version": "3.11.0"
  }
 },
 "nbformat": 4,
 "nbformat_minor": 5
}
